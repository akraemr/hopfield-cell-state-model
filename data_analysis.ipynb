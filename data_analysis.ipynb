{
 "cells": [
  {
   "cell_type": "markdown",
   "metadata": {},
   "source": [
    "# Master regulators as order parameters of gene expression states"
   ]
  },
  {
   "cell_type": "markdown",
   "metadata": {},
   "source": [
    "## Supplementary Material (data analysis)"
   ]
  },
  {
   "cell_type": "markdown",
   "metadata": {},
   "source": [
    "The original microarray expression data is available in the NCBI GEO database, accession GSE24759, https://www.ncbi.nlm.nih.gov/geo/query/acc.cgi?acc=GSE24759"
   ]
  },
  {
   "cell_type": "markdown",
   "metadata": {},
   "source": [
    "The file `hematopoiesis_data.txt` contains this data mapped to HUGO gene symbols."
   ]
  },
  {
   "cell_type": "code",
   "execution_count": null,
   "metadata": {},
   "outputs": [],
   "source": [
    "from pandas import read_csv, DataFrame, Series\n",
    "import matplotlib.pyplot as plt\n",
    "import matplotlib\n",
    "import numpy as np\n",
    "from scipy.cluster.hierarchy import linkage"
   ]
  },
  {
   "cell_type": "markdown",
   "metadata": {},
   "source": [
    "Helper function for hierarchical clustering"
   ]
  },
  {
   "cell_type": "code",
   "execution_count": null,
   "metadata": {},
   "outputs": [],
   "source": [
    "def cluster2_(df):    \n",
    "    \"\"\"clustering of dataframe on both axes (only affects ordering of rows and columns for visualization)\"\"\"\n",
    "    X = df.to_numpy(copy=True) \n",
    "    columns = np.array(df.columns) \n",
    "    rows = np.array(df.index)  \n",
    "    L = get_ordering(linkage(X)) \n",
    "    for i in range(len(columns)):\n",
    "      X[:,i] = X[L,i]\n",
    "    rows[:] = rows[L]\n",
    "    X = X.T\n",
    "    L = get_ordering(linkage(X))\n",
    "    for i in range(len(rows)):\n",
    "      X[:,i] = X[L,i]\n",
    "    columns[:] = columns[L]\n",
    "    X = X.T\n",
    "    return DataFrame(X, index=rows, columns=columns)\n",
    "\n",
    "def get_ordering(Y):\n",
    "    \"\"\"Y is the linkage\"\"\"\n",
    "    clusters = [[k] for k in range(len(Y)+1)]\n",
    "    for c1, c2, d, l in Y:\n",
    "        clusters.append(clusters[int(c1)] + clusters[int(c2)])\n",
    "    return clusters[-1]"
   ]
  },
  {
   "cell_type": "markdown",
   "metadata": {},
   "source": [
    "Helper function for matrix visualization"
   ]
  },
  {
   "cell_type": "code",
   "execution_count": null,
   "metadata": {},
   "outputs": [],
   "source": [
    "def show_matrix_(df, root=plt, font_size=6, cmap=plt.cm.bwr, clim=[-1, 1], no_ticks=False):\n",
    "    \"\"\"plot 2d matrix with ordered column and row headers\"\"\"\n",
    "    matplotlib.rc('font', size=font_size)\n",
    "    R = np.array(df)\n",
    "    rows = df.index\n",
    "    columns = df.columns\n",
    "    im = root.matshow(R)\n",
    "    if not no_ticks:\n",
    "        root.xticks(range(len(columns)), columns)\n",
    "        root.yticks(range(len(rows)), rows)\n",
    "    for label in im.axes.xaxis.get_ticklabels():\n",
    "        label.set_rotation(90)\n",
    "    im.set_cmap(cmap)\n",
    "    im.set_clim(clim)    \n",
    "    return im"
   ]
  },
  {
   "cell_type": "markdown",
   "metadata": {},
   "source": [
    "### 1. Load log-2 expression data, compute median over sample replicates"
   ]
  },
  {
   "cell_type": "code",
   "execution_count": null,
   "metadata": {},
   "outputs": [],
   "source": [
    "df = read_csv('hematopoiesis_data.txt', index_col=0, sep='\\t')\n",
    "\n",
    "with open('sample_annotations.txt') as f:\n",
    "    cell_types = {}\n",
    "    for l in f:\n",
    "        s = l.rstrip('\\n\\r').split('\\t')\n",
    "        cell_types.setdefault(s[1], []).append(s[0])\n",
    "\n",
    "with open('cell_types_short_form.txt') as f:\n",
    "    short_form_map = {}\n",
    "    for l in f:\n",
    "        if not l.startswith('#'):\n",
    "            x, y = l.rstrip('\\n\\r').split('\\t')\n",
    "            short_form_map[x] = y\n",
    "            \n",
    "df_med = DataFrame({short_form_map[k]: df[cell_types[k]].median(axis=1) for k in cell_types}) # slow!"
   ]
  },
  {
   "cell_type": "markdown",
   "metadata": {},
   "source": [
    "Display gene expression distributions"
   ]
  },
  {
   "cell_type": "code",
   "execution_count": null,
   "metadata": {},
   "outputs": [],
   "source": [
    "matplotlib.rcParams['figure.figsize'] = (10, 10)\n",
    "_ = df_med.hist(bins=30, color='b')"
   ]
  },
  {
   "cell_type": "markdown",
   "metadata": {},
   "source": [
    "### 2. Map gene expression data to interval [-1, 1] using \"soft\" sign function centered at median"
   ]
  },
  {
   "cell_type": "code",
   "execution_count": null,
   "metadata": {},
   "outputs": [],
   "source": [
    "df_mapped = np.tanh(df_med - df_med.median())"
   ]
  },
  {
   "cell_type": "markdown",
   "metadata": {},
   "source": [
    "### 3. Compute \"optimal\" gene set that can be used in the Hopfield model"
   ]
  },
  {
   "cell_type": "markdown",
   "metadata": {},
   "source": [
    "The idea is to find a gene set that is minimal in some sense but maximizes information about which cell category a sample belongs to. For the analysis here, the selection of genes $i$ was based on a heuristic that (a) controls the variance $\\sigma^2$  of expression values $e_i$ across samples using a parameter $\\lambda$ , $\\sigma^2(e_i) > \\lambda$, and (b) subsequently maximizes independence by imposing a constraint on the Pearsson correlation coefficients $r$ controlled by a parameter $\\mu$, $\\langle|r(e_i,e_j)|\\rangle_{j\\neq i} < \\mu$, where $i$ is fixed and the average runs over all other genes."
   ]
  },
  {
   "cell_type": "code",
   "execution_count": null,
   "metadata": {},
   "outputs": [],
   "source": [
    "matplotlib.rcParams['figure.figsize'] = (10, 10)\n",
    "fig, ax = plt.subplots(6, 6)\n",
    "for k, x in enumerate([0.1, 0.15, 0.2, 0.25, 0.3, 0.35]):\n",
    "    for l, y in enumerate([0.25, 0.275, 0.3, 0.325, 0.35, 0.375]):\n",
    "        X_ = df_mapped[df_mapped.var(axis=1) > x].T\n",
    "        X_ = X_.T[abs(X_.corr()).mean() < y].T\n",
    "        included_genes = sorted(set(X_.columns) - {'HOXA9', 'KLF1', 'GATA3', 'PAX5', 'SPI1'})\n",
    "        X_ = X_[included_genes]\n",
    "        show_matrix_(cluster2_(X_.T.corr()), root=ax[k, l], font_size=0, no_ticks=True, cmap=plt.cm.YlGnBu)\n",
    "        ax[k, l].axis('off')\n",
    "        if x == 0.25 and y == 0.3:\n",
    "            ax[k, l].set_title('$\\lambda=$%4.2f\\n$\\mu=$%5.3f $N=$%d' % (x, y, X_.shape[1]), fontsize=10, color='red')\n",
    "        else:\n",
    "            ax[k, l].set_title('$\\lambda=$%4.2f\\n$\\mu=$%5.3f $N=$%d' % (x, y, X_.shape[1]), fontsize=10)\n",
    "plt.tight_layout()"
   ]
  },
  {
   "cell_type": "markdown",
   "metadata": {},
   "source": [
    "\"Optimal\" parameters $\\lambda=0.25$, and $\\mu=0.3$ are obtained by visual inspection of the (Pearson) correlation matrix after hierarchical clustering. Also exclude genes corresponding to the master regulators discussed in the paper."
   ]
  },
  {
   "cell_type": "code",
   "execution_count": null,
   "metadata": {},
   "outputs": [],
   "source": [
    "lbda = 0.25\n",
    "mu = 0.3"
   ]
  },
  {
   "cell_type": "markdown",
   "metadata": {},
   "source": [
    "DataFrame `X_` contains `cell types` $\\times$ `genes` mapped expression data"
   ]
  },
  {
   "cell_type": "code",
   "execution_count": null,
   "metadata": {},
   "outputs": [],
   "source": [
    "X_ = df_mapped[df_mapped.var(axis=1) > lbda].T # 0.25\n",
    "X_ = X_.T[abs(X_.corr()).mean() < mu].T # 0.3\n",
    "included_genes = sorted(set(X_.columns) - {'HOXA9', 'KLF1', 'GATA3', 'PAX5', 'SPI1'})\n",
    "X_ = X_[included_genes]"
   ]
  },
  {
   "cell_type": "markdown",
   "metadata": {},
   "source": [
    "### 4. Pearson correlation matrix $\\rightarrow$ Figure 2.a    \n",
    "**Note:**  `I` contains sorted cell types"
   ]
  },
  {
   "cell_type": "code",
   "execution_count": null,
   "metadata": {},
   "outputs": [],
   "source": [
    "matplotlib.rcParams['figure.figsize'] = (8, 8)\n",
    "X_corr = X_.T.corr()\n",
    "X_corr_C = cluster2_(X_corr)\n",
    "I = X_corr_C.index\n",
    "show_matrix_(X_corr_C, font_size=10, cmap=plt.cm.YlGnBu, clim=[-0.2, 1])\n",
    "plt.colorbar(shrink=0.4)"
   ]
  },
  {
   "cell_type": "markdown",
   "metadata": {},
   "source": [
    "Cell types corresponding to hematopoietic stem cell, T-lyphoid, B-lyphoid, myeloid, and erythroid categories (S, T, B, M, E) associated with clusters."
   ]
  },
  {
   "cell_type": "code",
   "execution_count": null,
   "metadata": {},
   "outputs": [],
   "source": [
    "clusters = {'B': [u'BCELLa1', u'BCELLa2', u'BCELLa3', u'BCELLa4'],\n",
    "            'T': ['TCELL2', 'TCELL6', 'TCELL7', 'TCELL8', 'TCELL4', 'TCELL3'],\n",
    "            'M': [u'MONO1', u'MONO2', 'GRAN2', 'GRAN3'],\n",
    "            'S': [u'HSC1', u'HSC2', 'MEP', 'ERY1'],\n",
    "            'E': [u'ERY3', u'ERY4', u'ERY5']}"
   ]
  },
  {
   "cell_type": "markdown",
   "metadata": {},
   "source": [
    "Master regulators (MRs) and cell type categories"
   ]
  },
  {
   "cell_type": "code",
   "execution_count": null,
   "metadata": {},
   "outputs": [],
   "source": [
    "categories = ['E', 'T', 'M', 'B', 'S']\n",
    "MRs = ['KLF1', 'GATA3', 'SPI1', 'PAX5', 'HOXA9']"
   ]
  },
  {
   "cell_type": "markdown",
   "metadata": {},
   "source": [
    "### 5. Construct pattern vectors $\\xi_i^k$ from average gene expression in each cluster"
   ]
  },
  {
   "cell_type": "code",
   "execution_count": null,
   "metadata": {},
   "outputs": [],
   "source": [
    "cluster_means = DataFrame({c: X_.T[clusters[c]].mean(axis=1) for c in categories}).T\n",
    "patterns = np.sign(cluster_means)\n",
    "patterns.astype(int)"
   ]
  },
  {
   "cell_type": "markdown",
   "metadata": {},
   "source": [
    "Check orthogonality: scalar product between patterns $\\langle\\!\\langle\\xi^k\\xi^l\\rangle\\!\\rangle$"
   ]
  },
  {
   "cell_type": "code",
   "execution_count": null,
   "metadata": {},
   "outputs": [],
   "source": [
    "orth = patterns.dot(patterns.T)/patterns.shape[1]\n",
    "orth"
   ]
  },
  {
   "cell_type": "code",
   "execution_count": null,
   "metadata": {},
   "outputs": [],
   "source": [
    "print('Range: [%f, %f]' % (orth.min().min(), (orth-DataFrame(np.identity(5), index=orth.index, columns=orth.columns)).max().max()))"
   ]
  },
  {
   "cell_type": "markdown",
   "metadata": {},
   "source": [
    "Check pattern mean $\\langle\\!\\langle\\xi^k\\rangle\\!\\rangle$"
   ]
  },
  {
   "cell_type": "code",
   "execution_count": null,
   "metadata": {},
   "outputs": [],
   "source": [
    "bias = patterns.mean(axis=1)\n",
    "bias"
   ]
  },
  {
   "cell_type": "code",
   "execution_count": null,
   "metadata": {},
   "outputs": [],
   "source": [
    "print('Range: [%f, %f]' % (bias.min(), bias.max()))"
   ]
  },
  {
   "cell_type": "markdown",
   "metadata": {},
   "source": [
    "### 6. Expression of master regulators (MRs) $\\rightarrow$ Figure 2.b\n",
    "MRs expression (not log-transformed) is mapped to interval [0, 1] here\n"
   ]
  },
  {
   "cell_type": "code",
   "execution_count": null,
   "metadata": {},
   "outputs": [],
   "source": [
    "A = 2**df_med\n",
    "A_ = ((A.T - A.min(axis=1))/(A.max(axis=1) - A.min(axis=1)))\n",
    "A_ = A_[MRs].T"
   ]
  },
  {
   "cell_type": "code",
   "execution_count": null,
   "metadata": {},
   "outputs": [],
   "source": [
    "show_matrix_(A_[I], font_size=10, cmap=plt.cm.YlGnBu, clim=[-0.2, 1])"
   ]
  },
  {
   "cell_type": "markdown",
   "metadata": {},
   "source": [
    "### 7. Estimate order parameters $\\rightarrow$ Figure 2.c"
   ]
  },
  {
   "cell_type": "code",
   "execution_count": null,
   "metadata": {},
   "outputs": [],
   "source": [
    "OPs = patterns.dot(np.sign(X_).T)/patterns.shape[1]\n",
    "B_ = OPs.loc[categories]"
   ]
  },
  {
   "cell_type": "code",
   "execution_count": null,
   "metadata": {},
   "outputs": [],
   "source": [
    "show_matrix_(B_[I], font_size=10, cmap=plt.cm.YlGnBu, clim=[-0.2, 1])"
   ]
  },
  {
   "cell_type": "markdown",
   "metadata": {},
   "source": [
    "### 8. Compare OPs to MRs for mixed cell types in the myeloid/erythroid branch $\\rightarrow$ Figure 3.a"
   ]
  },
  {
   "cell_type": "code",
   "execution_count": null,
   "metadata": {},
   "outputs": [],
   "source": [
    "matplotlib.rcParams['figure.figsize'] = (4, 4)\n",
    "\n",
    "for k, cell_type in enumerate(['GRAN1', 'GMP', 'ERY2', 'CMP']):\n",
    "    data = DataFrame({'MR': A_[cell_type], 'OP': B_[cell_type].rename(index=dict(zip(categories, MRs)))})\n",
    "    data = data.rename(index={\n",
    "        'SPI1': 'SPI1/M', 'KLF1': 'KLF1/E', 'PAX5': 'PAX5/B', 'GATA3': 'GATA3/T', 'HOXA9': 'HOXA9/S'\n",
    "    })\n",
    "    data = data.loc[['KLF1/E', 'GATA3/T', 'SPI1/M', 'PAX5/B', 'HOXA9/S']]\n",
    "    data.plot(kind='bar', fontsize=15, rot=45)\n",
    "    plt.title(cell_type, fontsize=15)"
   ]
  },
  {
   "cell_type": "markdown",
   "metadata": {},
   "source": [
    "### 9. Explore the \"epigenetic landscape\" potential $V(\\{\\phi_k\\})$ constructed from the computed pattern vectors"
   ]
  },
  {
   "cell_type": "markdown",
   "metadata": {},
   "source": [
    "Helper function for getting pattern for given cell categories"
   ]
  },
  {
   "cell_type": "code",
   "execution_count": null,
   "metadata": {},
   "outputs": [],
   "source": [
    "def get_patterns(*args):\n",
    "    XI = []\n",
    "    for mr in args:\n",
    "        XI.append(np.array([float(s) for s in patterns.T[mr]]))\n",
    "    return tuple(XI)"
   ]
  },
  {
   "cell_type": "markdown",
   "metadata": {},
   "source": [
    "Helper function to compute stable states for given parameters $\\beta_k$:       \n",
    "Start minimization of $V$ from 5 \"ideal\" locations of the form $(0,...,0,1,0,..,0)$. For large enough $\\beta_k$ 5 different minima will be found, for smaller values there will be fewer minima."
   ]
  },
  {
   "cell_type": "code",
   "execution_count": null,
   "metadata": {},
   "outputs": [],
   "source": [
    "from scipy.optimize import minimize\n",
    "\n",
    "def get_stable_states(BETA):\n",
    "    \n",
    "    \"\"\"return None if error encountered, e.g. pure state doesn't exist for supplied beta\"\"\"\n",
    "    \n",
    "    C = ['B', 'E', 'M', 'S', 'T']\n",
    "    XI = get_patterns(*C)\n",
    "    \n",
    "    B = tuple(BETA[c] for c in C)\n",
    " \n",
    "    def V(PHI): # potential\n",
    "        return sum(0.5*p**2/b for p, b in zip(PHI, B)) - np.log(2.*np.cosh(sum(xi*p for xi, p in zip(XI, PHI)))).mean()\n",
    " \n",
    "    result = {}\n",
    "    for c, t in zip(C, [(1., 0, 0, 0, 0), (0, 1., 0, 0, 0), (0, 0, 1., 0, 0), (0, 0, 0, 1., 0), (0, 0, 0, 0, 1.)]):\n",
    "        t = tuple(tt*BETA[cc] for tt, cc in zip(t, C))\n",
    "        try:\n",
    "            phi = minimize(V, t).x \n",
    "            result[c+''] = {c: p/BETA[c] for p, c in zip(phi, C)}\n",
    "        except:\n",
    "            return\n",
    "        \n",
    "    return DataFrame(result)    \n"
   ]
  },
  {
   "cell_type": "markdown",
   "metadata": {},
   "source": [
    "#### 9.1 Compute locations of stable states as function of $\\beta=\\beta_k$ (case where all parameters $\\beta_k$ are the same)"
   ]
  },
  {
   "cell_type": "code",
   "execution_count": null,
   "metadata": {},
   "outputs": [],
   "source": [
    "matplotlib.rcParams['figure.figsize'] = (8, 6)\n",
    "S, P = [], []\n",
    "for k in range(400):\n",
    "    s = k*0.01\n",
    "    P.append(get_stable_states({c: s for c in categories}))\n",
    "    S.append(s)\n",
    "\n",
    "for k in range(5):\n",
    "    for l in range(5):\n",
    "        P_ = [p[categories[k]][categories[l]] for p in P]\n",
    "        plt.scatter(S, P_, s=1)\n",
    "        \n",
    "plt.plot([2, 2], [-0.1, 1.1], '--')\n",
    "plt.ylim([-0.1, 1.1])"
   ]
  },
  {
   "cell_type": "markdown",
   "metadata": {},
   "source": [
    "It is seen that the point $\\phi_k=0$ becomes unstable around $\\beta\\approx 0.75$. Five stable states exist at $\\beta = 2$"
   ]
  },
  {
   "cell_type": "code",
   "execution_count": null,
   "metadata": {},
   "outputs": [],
   "source": [
    "beta = 2.\n",
    "BETA = {c: beta for c in categories}"
   ]
  },
  {
   "cell_type": "markdown",
   "metadata": {},
   "source": [
    "Check that $\\phi_k=0$ is unstable at $\\beta=2$:     \n",
    "Look at second-order term of expansion of the potential, $V^{(2)}(\\{\\phi_k\\})=\\frac{1}{2}\\sum_{k,l}\\left(\\frac{1}{\\beta_k}\\delta_{kl}-\\langle\\!\\langle\\xi^k\\xi^l\\rangle\\!\\rangle\\right)\\phi_k\\phi_l.$\n"
   ]
  },
  {
   "cell_type": "code",
   "execution_count": null,
   "metadata": {},
   "outputs": [],
   "source": [
    "from scipy.linalg import eigh, eig\n",
    "b = Series(BETA)\n",
    "db = DataFrame(np.diag(b), columns=b.index, index=b.index) \n",
    "xixi = patterns.dot(patterns.T)/patterns.shape[1]\n",
    "bb = DataFrame(np.outer(b, b), index=b.index, columns=b.index)\n",
    "M = 0.5 * (db / bb - xixi)\n",
    "w, v = eigh(M)\n",
    "print('Eigenvalues of Hessian at origin:', w)"
   ]
  },
  {
   "cell_type": "markdown",
   "metadata": {},
   "source": [
    "OP values at stable states (columns are the different categories, rows are the corresponding OP components)"
   ]
  },
  {
   "cell_type": "code",
   "execution_count": null,
   "metadata": {},
   "outputs": [],
   "source": [
    "get_stable_states(BETA)"
   ]
  },
  {
   "cell_type": "markdown",
   "metadata": {},
   "source": [
    "#### 9.2 Plot cell types over potential in M-S plane"
   ]
  },
  {
   "cell_type": "code",
   "execution_count": null,
   "metadata": {},
   "outputs": [],
   "source": [
    "matplotlib.rcParams['figure.figsize'] = (5, 5)\n",
    "stems = set()\n",
    "c1, c2 = 'M', 'S'\n",
    "Bx, By = BETA[c1], BETA[c2]\n",
    "XIx, XIy = get_patterns(c1, c2) \n",
    "Gy, Gx = np.mgrid[-0.2:1.05:100j, -0.2:1.05:100j]\n",
    "PHIy, PHIx = Gy * By, Gx * Bx\n",
    "N = len(XIx)\n",
    "V = 0.5 * (PHIx**2/Bx + PHIy**2/By) - (1./N) * sum(np.log(2*np.cosh(XIx[i]*PHIx + XIy[i]*PHIy)) for i in range(N))\n",
    "CS = plt.contourf(Gx, Gy, V, levels=[V.min()*(19-k)/19. + V.max()*k/19. for k in range(20)], cmap=plt.cm.gray_r)\n",
    "plt.contour(CS, linewidths=0.5, colors='black', linestyles='solid')\n",
    "plt.scatter(OPs.loc[c1], OPs.loc[c2], c='white', edgecolor='blue', linewidth=0.5)\n",
    "sol = get_stable_states(BETA)\n",
    "plt.scatter(sol.T[c1], sol.T[c2], marker='+', c='r') \n",
    "plt.xlabel(r'$\\phi_%s$' % (c1,), fontsize=20, labelpad=-13)\n",
    "plt.ylabel(r'$\\phi_%s$' % (c2,), fontsize=20, labelpad=-13)\n",
    "plt.axhline(0, color='black', linewidth=0.5)\n",
    "plt.axvline(0, color='black', linewidth=0.5)\n",
    "plt.axhline(1, color='black', linewidth=0.5, linestyle=(0, (5, 5)))\n",
    "plt.axvline(1, color='black', linewidth=0.5, linestyle=(0, (5, 5)))\n",
    "plt.xticks([0, 1])\n",
    "plt.yticks([0, 1])\n",
    "for s, x, y in zip(OPs.T.index, OPs.T[c1], OPs.T[c2]):\n",
    "    if x + y > 0.:\n",
    "        if s in {'HSC1', 'GRAN2', 'CMP', 'GMP', 'ERY2', 'MEP', 'MONO1', 'GRAN1'}:\n",
    "            plt.annotate(s, (x, y), fontsize=10)"
   ]
  }
 ],
 "metadata": {
  "language_info": {
   "name": "python",
   "pygments_lexer": "ipython3"
  }
 },
 "nbformat": 4,
 "nbformat_minor": 4
}
